{
 "cells": [
  {
   "cell_type": "code",
   "execution_count": 1,
   "id": "bd14f387",
   "metadata": {},
   "outputs": [
    {
     "name": "stdout",
     "output_type": "stream",
     "text": [
      "hola\n"
     ]
    }
   ],
   "source": [
    "print(\"hola\")"
   ]
  },
  {
   "cell_type": "markdown",
   "id": "207fc37c",
   "metadata": {},
   "source": [
    "# Predicción del Desgaste de Vehículos\n",
    "Este notebook predice el nivel de desgaste de vehículos militares en función de las horas de uso utilizando un modelo de regresión lineal."
   ]
  },
  {
   "cell_type": "code",
   "execution_count": null,
   "id": "75ceec27",
   "metadata": {},
   "outputs": [],
   "source": [
    "import numpy as np\n",
    "import matplotlib.pyplot as plt\n",
    "from sklearn.linear_model import LinearRegression"
   ]
  },
  {
   "cell_type": "code",
   "execution_count": null,
   "id": "6a638d22",
   "metadata": {},
   "outputs": [],
   "source": [
    "class VehicleDataGenerator:\n",
    "    def __init__(self, *args, **kwargs):\n",
    "        pass\n",
    "\n",
    "    def generate(self, num_records):\n",
    "        return self.generate_data(num_records)\n",
    "\n",
    "    @staticmethod\n",
    "    def generate_data(num_records):\n",
    "        np.random.seed(42)\n",
    "        hours = np.random.uniform(50, 500, num_records)\n",
    "        wear = 0.2 * hours + np.random.normal(0, 5, num_records)\n",
    "        return hours, wear\n",
    "\n",
    "class VehicleRecord:\n",
    "    def __init__(self, hours, wear):\n",
    "        self.hours = hours\n",
    "        self.wear = wear\n",
    "\n",
    "class VehicleWearRegressor:\n",
    "    def __init__(self):\n",
    "        self.model = LinearRegression()\n",
    "\n",
    "    def train(self, hours, wear):\n",
    "        X = np.array(hours).reshape(-1, 1)\n",
    "        y = np.array(wear)\n",
    "        self.model.fit(X, y)\n",
    "\n",
    "    def predict(self, hours):\n",
    "        X_new = np.array(hours).reshape(-1, 1)\n",
    "        return self.model.predict(X_new)\n",
    "\n",
    "class VehicleWearPredictionExample:\n",
    "    def run(self):\n",
    "        # Generar datos sintéticos\n",
    "        generator = VehicleDataGenerator()\n",
    "        hours, wear = generator.generate_data(100)\n",
    "\n",
    "        # Entrenar el modelo\n",
    "        regressor = VehicleWearRegressor()\n",
    "        regressor.train(hours, wear)\n",
    "\n",
    "        # Predecir el desgaste de un nuevo vehículo\n",
    "        new_hours = 250\n",
    "        predicted_wear = regressor.predict([new_hours])[0]\n",
    "\n",
    "        # Visualizar los datos y la predicción\n",
    "        plt.scatter(hours, wear, label=\"Datos reales\", alpha=0.7)\n",
    "        plt.plot(hours, regressor.predict(hours), color=\"red\", label=\"Línea de regresión\")\n",
    "        plt.scatter([new_hours], [predicted_wear], color=\"green\", label=\"Predicción\", zorder=5)\n",
    "        plt.xlabel(\"Horas de uso\")\n",
    "        plt.ylabel(\"Nivel de desgaste\")\n",
    "        plt.legend()\n",
    "        plt.title(\"Predicción del Desgaste de Vehículos\")\n",
    "        plt.show()\n",
    "\n",
    "        print(f\"⏱ Horas de uso estimadas: {new_hours}\")\n",
    "        print(f\"⚙️ Nivel de desgaste estimado: {predicted_wear:.2f}%\")"
   ]
  },
  {
   "cell_type": "code",
   "execution_count": null,
   "id": "fdf2006b",
   "metadata": {},
   "outputs": [],
   "source": [
    "example = VehicleWearPredictionExample()\n",
    "example.run()"
   ]
  }
 ],
 "metadata": {
  "kernelspec": {
   "display_name": "Python 3",
   "language": "python",
   "name": "python3"
  },
  "language_info": {
   "codemirror_mode": {
    "name": "ipython",
    "version": 3
   },
   "file_extension": ".py",
   "mimetype": "text/x-python",
   "name": "python",
   "nbconvert_exporter": "python",
   "pygments_lexer": "ipython3",
   "version": "3.13.2"
  }
 },
 "nbformat": 4,
 "nbformat_minor": 5
}
